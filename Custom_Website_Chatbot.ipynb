{
  "cells": [
    {
      "cell_type": "markdown",
      "metadata": {
        "id": "view-in-github",
        "colab_type": "text"
      },
      "source": [
        "<a href=\"https://colab.research.google.com/github/Alao001/Custom_website_chatbot/blob/main/Custom_Website_Chatbot.ipynb\" target=\"_parent\"><img src=\"https://colab.research.google.com/assets/colab-badge.svg\" alt=\"Open In Colab\"/></a>"
      ]
    },
    {
      "cell_type": "markdown",
      "source": [
        "Installing the Dependencies"
      ],
      "metadata": {
        "id": "s1o-T74HDdto"
      }
    },
    {
      "cell_type": "code",
      "execution_count": 15,
      "metadata": {
        "id": "WQDS09WwzKqs"
      },
      "outputs": [],
      "source": [
        "!pip -q install langchain langchain-community\n",
        "!pip -q install openai\n",
        "!pip -q install tiktoken\n",
        "!pip -q install tokenizers\n",
        "!pip -q install faiss-cpu\n",
        "!pip -q install unstructured"
      ]
    },
    {
      "cell_type": "code",
      "execution_count": 16,
      "metadata": {
        "id": "g47-JkHG0-eF",
        "colab": {
          "base_uri": "https://localhost:8080/"
        },
        "outputId": "4cd88717-40f2-4b1f-9a8e-ac42b51d4422"
      },
      "outputs": [
        {
          "output_type": "stream",
          "name": "stdout",
          "text": [
            "Requirement already satisfied: numpy==1.25.0 in /usr/local/lib/python3.10/dist-packages (1.25.0)\n"
          ]
        }
      ],
      "source": [
        "!pip install numpy==1.25.0\n",
        "!pip -q install nltk==3.9.1"
      ]
    },
    {
      "cell_type": "code",
      "execution_count": 17,
      "metadata": {
        "id": "fgYfJB4j2IJ2"
      },
      "outputs": [],
      "source": [
        "!pip install streamlit -q"
      ]
    },
    {
      "cell_type": "code",
      "execution_count": 18,
      "metadata": {
        "id": "tEORGMS-BP5_",
        "colab": {
          "base_uri": "https://localhost:8080/"
        },
        "outputId": "954c5ce7-c21a-4352-bf16-7327bee305fa"
      },
      "outputs": [
        {
          "output_type": "stream",
          "name": "stdout",
          "text": [
            "Overwriting app.py\n"
          ]
        }
      ],
      "source": [
        "%%writefile app.py\n",
        "import streamlit as st\n",
        "from langchain.embeddings import OpenAIEmbeddings\n",
        "from langchain.vectorstores import FAISS\n",
        "from langchain.chains import RetrievalQAWithSourcesChain\n",
        "from langchain.chat_models import ChatOpenAI\n",
        "from langchain.document_loaders import UnstructuredURLLoader\n",
        "from langchain.text_splitter import CharacterTextSplitter\n",
        "import os\n",
        "import nltk\n",
        "\n",
        "# Load environment variables\n",
        "\n",
        "os.environ[\"OPENAI_API_KEY\"] = \"Input OpenAi Key\"\n",
        "\n",
        "# Download necessary nltk data\n",
        "nltk.download('punkt')\n",
        "nltk.download('averaged_perceptron_tagger')\n",
        "\n",
        "# Step 1: Load and process documents from URLs\n",
        "URLs = [\n",
        "    \"https://www.lautech.edu.ng/\",\n",
        "    \"https://admissions.oauife.edu.ng/?lnk=home&1730557161\",\n",
        "    \"https://www.atbu.edu.ng\",\n",
        "    \"https://www.abu.edu.ng\",\n",
        "    \"https://www.buk.edu.ng\",\n",
        "\n",
        "]\n",
        "\n",
        "# Load the documents from URLs\n",
        "loaders = UnstructuredURLLoader(urls=URLs)\n",
        "data = loaders.load()\n",
        "\n",
        "# Split text into manageable chunks\n",
        "text_splitter = CharacterTextSplitter(\n",
        "    separator='\\n',\n",
        "    chunk_size=1000,\n",
        "    chunk_overlap=200\n",
        ")\n",
        "text_chunks = text_splitter.split_documents(data)\n",
        "\n",
        "# Create embeddings and vector store\n",
        "embeddings = OpenAIEmbeddings()\n",
        "vectorstores = FAISS.from_documents(text_chunks, embedding=embeddings)\n",
        "\n",
        "# Initialize the LLM with the with gpt-4-turbo\n",
        "llm = ChatOpenAI(model=\"gpt-4-turbo\")\n",
        "chain = RetrievalQAWithSourcesChain.from_chain_type(\n",
        "    llm=llm,\n",
        "    retriever=vectorstores.as_retriever()\n",
        ")\n",
        "\n",
        "# Streamlit UI for the chatbot\n",
        "st.title(\"Custom Website Chatbot\")\n",
        "\n",
        "# Sidebar information\n",
        "st.sidebar.title(\"About\")\n",
        "st.sidebar.info(\n",
        "    \"\"\"\n",
        "    This chatbot retrieves information from selected Nigeria Universities websites and give adequates information about them .\n",
        "    \"\"\"\n",
        ")\n",
        "\n",
        "# Clear history button\n",
        "if st.sidebar.button(\"Clear History\"):\n",
        "    st.session_state.history = []\n",
        "\n",
        "# Session state to store conversation history\n",
        "if \"history\" not in st.session_state:\n",
        "    st.session_state.history = []\n",
        "\n",
        "# Input for user query\n",
        "user_input = st.text_input(\"Chat with the websites:\", \"\")\n",
        "\n",
        "if user_input:\n",
        "    # Run the query through the RetrievalQA chain\n",
        "    result = chain({\"question\": user_input})\n",
        "\n",
        "    # Display the answer\n",
        "    answer = result['answer']\n",
        "    sources = result['sources']\n",
        "\n",
        "    # Add the user's question and the AI's answer to the session history\n",
        "    st.session_state.history.append({\"question\": user_input, \"answer\": answer, \"sources\": sources})\n",
        "\n",
        "# Display the conversation history\n",
        "st.write(\"### Conversation History\")\n",
        "for chat in st.session_state.history:\n",
        "    st.write(f\"**You:** {chat['question']}\")\n",
        "    st.write(f\"**Bot:** {chat['answer']}\")\n",
        "    st.write(f\"**Sources:** {chat['sources']}\")\n",
        "\n",
        "st.write(\"### Ask another question or use 'Clear History' to start fresh!\")\n"
      ]
    },
    {
      "cell_type": "code",
      "execution_count": 19,
      "metadata": {
        "id": "h52P_aCDnK-_",
        "colab": {
          "base_uri": "https://localhost:8080/"
        },
        "outputId": "a557d5bc-ab8b-44c6-e090-6a6fe9d6c300"
      },
      "outputs": [
        {
          "output_type": "stream",
          "name": "stdout",
          "text": [
            "\u001b[K\u001b[?25h\n",
            "up to date, audited 23 packages in 500ms\n",
            "\n",
            "3 packages are looking for funding\n",
            "  run `npm fund` for details\n",
            "\n",
            "2 \u001b[33m\u001b[1mmoderate\u001b[22m\u001b[39m severity vulnerabilities\n",
            "\n",
            "To address all issues (including breaking changes), run:\n",
            "  npm audit fix --force\n",
            "\n",
            "Run `npm audit` for details.\n"
          ]
        }
      ],
      "source": [
        "\n",
        "!npm install localtunnel"
      ]
    },
    {
      "cell_type": "code",
      "execution_count": 20,
      "metadata": {
        "id": "xea2ghcq29nN",
        "colab": {
          "base_uri": "https://localhost:8080/"
        },
        "outputId": "2bd82357-f847-4985-a2f1-434594b0382c"
      },
      "outputs": [
        {
          "output_type": "stream",
          "name": "stdout",
          "text": [
            "35.237.141.12\n"
          ]
        }
      ],
      "source": [
        "!wget -q -O - ipv4.icanhazip.com"
      ]
    },
    {
      "cell_type": "code",
      "execution_count": 21,
      "metadata": {
        "id": "1-j4QvQ73E1V"
      },
      "outputs": [],
      "source": [
        "!streamlit run app.py &>/content/logs.txt &"
      ]
    },
    {
      "cell_type": "code",
      "execution_count": 22,
      "metadata": {
        "colab": {
          "base_uri": "https://localhost:8080/"
        },
        "id": "zHJPTCSH3I4t",
        "outputId": "00032779-27e7-4575-fe7e-b4794020d256"
      },
      "outputs": [
        {
          "output_type": "stream",
          "name": "stdout",
          "text": [
            "your url is: https://lovely-plums-press.loca.lt\n",
            "^C\n"
          ]
        }
      ],
      "source": [
        "!npx localtunnel --port 8501"
      ]
    }
  ],
  "metadata": {
    "colab": {
      "provenance": [],
      "authorship_tag": "ABX9TyMRzrBWVQnsSlaQmi4maL7f",
      "include_colab_link": true
    },
    "kernelspec": {
      "display_name": "Python 3",
      "name": "python3"
    },
    "language_info": {
      "name": "python"
    }
  },
  "nbformat": 4,
  "nbformat_minor": 0
}